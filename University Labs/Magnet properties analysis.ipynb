{
 "cells": [
  {
   "cell_type": "code",
   "execution_count": 9,
   "id": "lined-differential",
   "metadata": {},
   "outputs": [],
   "source": [
    "#Import my favourite librarys :)\n",
    "import numpy as np\n",
    "from scipy.optimize import curve_fit as cf\n",
    "import matplotlib.pyplot as plt\n",
    "\n",
    "#Import data on magnets B field at different\n",
    "B=[26.7*10**(-3),5.5*10**(-3),1.9*10**(-3),1*10**(-3),0.6*10**(-3),0.4*10**(-3),0.2*10**(-3),]\n",
    "x=[1*10**(-2),2*10**(-2),3*10**(-2),4*10**(-2),5*10**(-2),6*10**(-2),10*10**(-2)]\n",
    "\n",
    "#define constants\n",
    "Mu=1.25663706*10**(-6)"
   ]
  },
  {
   "cell_type": "code",
   "execution_count": 10,
   "id": "cardiac-westminster",
   "metadata": {},
   "outputs": [],
   "source": [
    "def B_field (r, m):\n",
    "    return ((Mu*m)/(4*np.pi*(r**3)))"
   ]
  },
  {
   "cell_type": "code",
   "execution_count": 12,
   "id": "beginning-october",
   "metadata": {},
   "outputs": [
    {
     "name": "stdout",
     "output_type": "stream",
     "text": [
      "[0.27012297]\n",
      "[[9.83411727e-05]]\n"
     ]
    }
   ],
   "source": [
    "popt, pcov = cf(B_field, x, B)\n",
    "print(popt)\n",
    "print(pcov)"
   ]
  },
  {
   "cell_type": "code",
   "execution_count": null,
   "id": "induced-sessions",
   "metadata": {},
   "outputs": [],
   "source": []
  }
 ],
 "metadata": {
  "kernelspec": {
   "display_name": "Python 3",
   "language": "python",
   "name": "python3"
  },
  "language_info": {
   "codemirror_mode": {
    "name": "ipython",
    "version": 3
   },
   "file_extension": ".py",
   "mimetype": "text/x-python",
   "name": "python",
   "nbconvert_exporter": "python",
   "pygments_lexer": "ipython3",
   "version": "3.8.3"
  }
 },
 "nbformat": 4,
 "nbformat_minor": 5
}
